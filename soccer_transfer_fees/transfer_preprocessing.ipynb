{
 "cells": [
  {
   "cell_type": "code",
   "execution_count": null,
   "metadata": {
    "Collapsed": "false"
   },
   "outputs": [],
   "source": [
    "import numpy as np\n",
    "import pandas as pd\n",
    "\n",
    "import scipy.stats as stats\n",
    "\n",
    "# from scraping_utility import *"
   ]
  },
  {
   "cell_type": "markdown",
   "metadata": {
    "Collapsed": "false"
   },
   "source": [
    "# Import and clean transfer data\n",
    "\n",
    "## Import data from the top 5 leagues for 2015-2019"
   ]
  },
  {
   "cell_type": "code",
   "execution_count": null,
   "metadata": {
    "Collapsed": "false"
   },
   "outputs": [],
   "source": [
    "data_path = '../transfers-master/data/'\n",
    "\n",
    "years = [2019, 2018, 2017, 2016, 2015]\n",
    "\n",
    "leagues = ['english_premier_league',\n",
    "          'french_ligue_1',\n",
    "          'german_bundesliga_1',\n",
    "          'italian_serie_a',\n",
    "          'spanish_primera_division']"
   ]
  },
  {
   "cell_type": "markdown",
   "metadata": {
    "Collapsed": "false"
   },
   "source": [
    "# Scrape player stats from FBref.com"
   ]
  },
  {
   "cell_type": "code",
   "execution_count": null,
   "metadata": {
    "Collapsed": "false"
   },
   "outputs": [],
   "source": [
    "scrape_new = False"
   ]
  },
  {
   "cell_type": "code",
   "execution_count": null,
   "metadata": {
    "Collapsed": "false"
   },
   "outputs": [],
   "source": [
    "if scrape_new:\n",
    "    \n",
    "    shot_stats, pass_stats, time_stats, misc_stats = scrape_all_players(transfer_data)\n",
    "\n",
    "    shot_stats.to_csv('shot_stats.csv', index=False)\n",
    "    pass_stats.to_csv('pass_stats.csv', index=False)\n",
    "    time_stats.to_csv('time_stats.csv', index=False)\n",
    "    misc_stats.to_csv('misc_stats.csv', index=False)"
   ]
  },
  {
   "cell_type": "code",
   "execution_count": null,
   "metadata": {
    "Collapsed": "false"
   },
   "outputs": [],
   "source": [
    "shot_stats = pd.read_csv('shot_stats.csv')\n",
    "pass_stats = pd.read_csv('pass_stats.csv')\n",
    "time_stats = pd.read_csv('time_stats.csv')\n",
    "misc_stats = pd.read_csv('misc_stats.csv')"
   ]
  },
  {
   "cell_type": "markdown",
   "metadata": {
    "Collapsed": "false"
   },
   "source": [
    "# Merge all stats"
   ]
  },
  {
   "cell_type": "markdown",
   "metadata": {
    "Collapsed": "false"
   },
   "source": [
    "I used a player's name, age, year of transfer, team, competition level, and minutes played as an ID unique to each transfer"
   ]
  },
  {
   "cell_type": "code",
   "execution_count": null,
   "metadata": {
    "Collapsed": "false"
   },
   "outputs": [],
   "source": [
    "huge_stats = shot_stats.merge(pass_stats, on=['age', 'player_name', 'year',\n",
    "                                              'squad', 'comp_level', 'minutes_90s'])\n",
    "\n",
    "huge_stats = huge_stats.merge(time_stats, on=['age', 'player_name', 'year',\n",
    "                                              'squad', 'comp_level', 'minutes_90s'])\n",
    "\n",
    "huge_stats = huge_stats.merge(misc_stats, on=['age', 'player_name', 'year',\n",
    "                                              'squad', 'comp_level', 'minutes_90s'])\n",
    "\n",
    "huge_stats = huge_stats.replace('', np.nan)\n",
    "huge_stats.to_csv('huge_stats.csv', index=False)"
   ]
  },
  {
   "cell_type": "markdown",
   "metadata": {
    "Collapsed": "false"
   },
   "source": [
    "# Cleaning scraped data"
   ]
  },
  {
   "cell_type": "markdown",
   "metadata": {
    "Collapsed": "false"
   },
   "source": [
    "## Select a smaller subset of stats to keep"
   ]
  },
  {
   "cell_type": "code",
   "execution_count": null,
   "metadata": {
    "Collapsed": "false"
   },
   "outputs": [],
   "source": [
    "data_cols = ['player_name', 'age', 'year', 'minutes_90s', 'goals', 'pens_made', 'pens_att',\n",
    "             'shots_on_target', 'shots_on_target_pct', 'shots_on_target_per90', 'goals_per_shot_on_target', 'assists',\n",
    "             'games', 'minutes', 'minutes_per_game', 'minutes_pct', 'games_starts', 'games_subs',\n",
    "             'unused_subs', 'points_per_match', 'on_goals_for', 'on_goals_against', 'plus_minus',\n",
    "             'plus_minus_per90', 'cards_red', 'cards_yellow', 'fouls']"
   ]
  },
  {
   "cell_type": "code",
   "execution_count": null,
   "metadata": {
    "Collapsed": "false"
   },
   "outputs": [],
   "source": [
    "data = huge_stats.loc[:, data_cols]\n",
    "\n",
    "# Minutes column has commas that need to be removed before it can be turned into a numeric datatype\n",
    "data['minutes'] = data.minutes.str.replace(',', '')\n",
    "data = data.set_index('player_name').apply(pd.to_numeric)\n",
    "\n",
    "data = data.reset_index()"
   ]
  },
  {
   "cell_type": "markdown",
   "metadata": {
    "Collapsed": "false"
   },
   "source": [
    "## Fill in missing values for goals per shot on target"
   ]
  },
  {
   "cell_type": "code",
   "execution_count": null,
   "metadata": {
    "Collapsed": "false"
   },
   "outputs": [],
   "source": [
    "# Penalties don't count in our goals per shot on target\n",
    "data['in_play_goals'] = data.goals - data.pens_made\n",
    "data['goals_per_shot_on_target'] = (data.in_play_goals / data.shots_on_target).replace(np.inf, 0).fillna(0)\n",
    "\n",
    "# You can't score more than one goal per shot on target, so we'll assume those are errors in the data\n",
    "# and fill them with the mean\n",
    "data.loc[data.goals_per_shot_on_target > 1, 'goals_per_shot_on_target'] = data.goals_per_shot_on_target.mean()"
   ]
  },
  {
   "cell_type": "markdown",
   "metadata": {
    "Collapsed": "false"
   },
   "source": [
    "## Lots of shots on target % is missing. Let's impute them so we can calculate total shots"
   ]
  },
  {
   "cell_type": "code",
   "execution_count": null,
   "metadata": {
    "Collapsed": "false"
   },
   "outputs": [],
   "source": [
    "data.loc[data.shots_on_target_pct > 100, 'shots_on_target_pct'] = np.nan\n",
    "data.loc[data.shots_on_target == 0, 'shots_on_target_pct'] = 0"
   ]
  },
  {
   "cell_type": "code",
   "execution_count": null,
   "metadata": {
    "Collapsed": "false"
   },
   "outputs": [],
   "source": [
    "#I want to select only rows that have shots on target because I will use that to impute total shots\n",
    "data = data[data.shots_on_target.notna()]\n",
    "\n",
    "# Fill null shots on target percentages with mean + random between -2$\\sigma$ and +2$\\sigma$\n",
    "import random\n",
    "random.seed(12)\n",
    "sog_mean = data.shots_on_target_pct.mean()\n",
    "sog_std = data.shots_on_target.std()\n",
    "\n",
    "data.loc[data.shots_on_target_pct.isna(), 'shots_on_target_pct'] = sog_mean + sog_std*random.uniform(-2, 2)\n",
    "\n",
    "# The shots on target percentages are reported as between 0-100, I want them as decimals.\n",
    "data['shots_on_target_pct'] /= 100\n",
    "data['shots_total'] = (data.shots_on_target / data.shots_on_target_pct).replace(np.inf, 0).fillna(0).astype(int)"
   ]
  },
  {
   "cell_type": "markdown",
   "metadata": {
    "Collapsed": "false"
   },
   "source": [
    "### Combine rows for players with multiple entries in same year using [name, year, age] as an identifier\n",
    "\n",
    "Some players may have played on multiple teams in one season. I'm interested in their cumulative stats from the season so let's combine them all.\n",
    "\n",
    "Adding values is the reason why I needed to calculate total shots, because it is much easier to add shots and shots on target than it is to add shots on target percenetages."
   ]
  },
  {
   "cell_type": "code",
   "execution_count": null,
   "metadata": {
    "Collapsed": "false"
   },
   "outputs": [],
   "source": [
    "data_combined = data.groupby(['player_name', 'year', 'age']).sum().reset_index()\n",
    "combined_cols = ['player_name', 'age', 'year', 'minutes_90s', 'goals', 'in_play_goals', 'pens_made', 'pens_att',\n",
    "                'shots_total', 'shots_on_target', 'assists', 'games', 'minutes', 'games_starts', 'games_subs',\n",
    "                'unused_subs', 'on_goals_for', 'on_goals_against', 'plus_minus', 'cards_red',\n",
    "                'cards_yellow', 'fouls']\n",
    "data_combined = data_combined[combined_cols]"
   ]
  },
  {
   "cell_type": "markdown",
   "metadata": {
    "Collapsed": "false"
   },
   "source": [
    "#### Recalculate all ratio features with new combined values"
   ]
  },
  {
   "cell_type": "code",
   "execution_count": null,
   "metadata": {
    "Collapsed": "false"
   },
   "outputs": [],
   "source": [
    "data_combined['goals_per_shot_on_target'] = (data_combined.in_play_goals / data_combined.shots_on_target).replace(np.inf, 0).fillna(0)\n",
    "data_combined['shots_on_target_pct'] = (data_combined.shots_on_target / data_combined.shots_total).replace(np.inf, 0).fillna(0)\n",
    "data_combined['shots_on_target_per90'] = data_combined.shots_on_target / data_combined.minutes_90s"
   ]
  },
  {
   "cell_type": "markdown",
   "metadata": {
    "Collapsed": "false"
   },
   "source": [
    "# Merge scraped stats data with transfer data"
   ]
  },
  {
   "cell_type": "code",
   "execution_count": null,
   "metadata": {
    "Collapsed": "false"
   },
   "outputs": [],
   "source": [
    "data_full = data_combined.merge(transfer_data, on=['player_name', 'year'])\n",
    "data_full = data_full.drop_duplicates(['player_name', 'year'])\n",
    "data_full.to_csv('data_full.csv', index=False)"
   ]
  }
 ],
 "metadata": {
  "kernelspec": {
   "display_name": "Python [conda env:metis] *",
   "language": "python",
   "name": "conda-env-metis-py"
  },
  "language_info": {
   "codemirror_mode": {
    "name": "ipython",
    "version": 3
   },
   "file_extension": ".py",
   "mimetype": "text/x-python",
   "name": "python",
   "nbconvert_exporter": "python",
   "pygments_lexer": "ipython3",
   "version": "3.7.4"
  },
  "toc-autonumbering": true
 },
 "nbformat": 4,
 "nbformat_minor": 4
}
